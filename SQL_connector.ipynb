{
 "cells": [
  {
   "cell_type": "code",
   "execution_count": 1,
   "id": "b9fc0322-049c-4dee-ae63-e9a6f0400d05",
   "metadata": {},
   "outputs": [],
   "source": [
    "import pandas as pd\n",
    "import pymysql"
   ]
  },
  {
   "cell_type": "code",
   "execution_count": 2,
   "id": "129df441-54b6-4759-b1b3-7f5b5ae656ea",
   "metadata": {},
   "outputs": [],
   "source": [
    "csv_files = [\"ASTC.csv\",\n",
    "             \"HRTC.csv\",\n",
    "             \"JKSRTC.csv\",\n",
    "             \"KSRTC.csv\",\n",
    "             \"KTCL.csv\",\n",
    "             \"NBSTC.csv\",\n",
    "             \"PEPSU.csv\",\n",
    "             \"SBSTC.csv\",\n",
    "             \"TSRTC.csv\",\n",
    "             \"UPSRTC.csv\"]"
   ]
  },
  {
   "cell_type": "code",
   "execution_count": 3,
   "id": "44506fa9-c8e9-4473-a95d-7e3974c44f02",
   "metadata": {},
   "outputs": [],
   "source": [
    "# Read each CSV file into a DataFrame and store it in a list\n",
    "df_list = [pd.read_csv(file) for file in csv_files]"
   ]
  },
  {
   "cell_type": "code",
   "execution_count": 4,
   "id": "89cfec54-4b99-466e-b6d7-0e387c4dc1b9",
   "metadata": {},
   "outputs": [],
   "source": [
    "# Concatenate all DataFrames in the list\n",
    "combined_df = pd.concat(df_list, ignore_index=True)"
   ]
  },
  {
   "cell_type": "code",
   "execution_count": 5,
   "id": "995be3bd-95c3-450a-b88a-8cd5bef2a851",
   "metadata": {},
   "outputs": [
    {
     "name": "stderr",
     "output_type": "stream",
     "text": [
      "<>:3: SyntaxWarning: invalid escape sequence '\\d'\n",
      "<>:3: SyntaxWarning: invalid escape sequence '\\d'\n",
      "C:\\Users\\HI\\AppData\\Local\\Temp\\ipykernel_11788\\2157597570.py:3: SyntaxWarning: invalid escape sequence '\\d'\n",
      "  combined_df['Seat_Availability'] = combined_df['Seat_Availability'].str.extract('(\\d+)')\n"
     ]
    }
   ],
   "source": [
    "# Clean up DataFrame\n",
    "combined_df['Price'] = combined_df['Price'].str.replace('INR ', '', regex=False)\n",
    "combined_df['Seat_Availability'] = combined_df['Seat_Availability'].str.extract('(\\d+)')"
   ]
  },
  {
   "cell_type": "code",
   "execution_count": 6,
   "id": "18f86009-0a8c-4d4f-8a3a-d2a9687f1fe5",
   "metadata": {},
   "outputs": [],
   "source": [
    "# Drop null values\n",
    "combined_df = combined_df.dropna()\n"
   ]
  },
  {
   "cell_type": "code",
   "execution_count": 7,
   "id": "c81f746f-55d6-404e-b609-bfad69f8bd65",
   "metadata": {},
   "outputs": [],
   "source": [
    "# MySQL connection\n",
    "myconnection = pymysql.connect(\n",
    "    host=\"localhost\", \n",
    "    user=\"root\", \n",
    "    passwd=\"Iyyappan1*\", \n",
    "    database=\"redbus\"\n",
    ")\n"
   ]
  },
  {
   "cell_type": "code",
   "execution_count": 8,
   "id": "bbb167bc-0a1f-4f96-b443-538c3e3aef23",
   "metadata": {},
   "outputs": [
    {
     "data": {
      "text/plain": [
       "Route_Name            object\n",
       "Route_Link            object\n",
       "Bus_Name              object\n",
       "Bus_Type              object\n",
       "Departing_Time        object\n",
       "Duration              object\n",
       "Reaching_Time         object\n",
       "Star_Rating          float64\n",
       "Price                 object\n",
       "Seat_Availability     object\n",
       "dtype: object"
      ]
     },
     "execution_count": 8,
     "metadata": {},
     "output_type": "execute_result"
    }
   ],
   "source": [
    "combined_df.dtypes"
   ]
  },
  {
   "cell_type": "code",
   "execution_count": 9,
   "id": "542c2bbd-d8bc-4703-8828-1fdd52bf426c",
   "metadata": {},
   "outputs": [],
   "source": [
    "# Prepare column definitions for MySQL\n",
    "a = \",\".join(f\"{i} {j}\" for i, j in zip(combined_df.columns, combined_df.dtypes)).replace(\"float64\", \"float\").replace(\"object\", \"text\")\n"
   ]
  },
  {
   "cell_type": "code",
   "execution_count": 10,
   "id": "385c58b0-99d2-4d9e-99e9-d1866066c5c9",
   "metadata": {},
   "outputs": [
    {
     "data": {
      "text/plain": [
       "'Route_Name text,Route_Link text,Bus_Name text,Bus_Type text,Departing_Time text,Duration text,Reaching_Time text,Star_Rating float,Price text,Seat_Availability text'"
      ]
     },
     "execution_count": 10,
     "metadata": {},
     "output_type": "execute_result"
    }
   ],
   "source": [
    "a"
   ]
  },
  {
   "cell_type": "code",
   "execution_count": 12,
   "id": "cf464cd3-b0f2-4f64-8bdd-a4f4ecbd4778",
   "metadata": {},
   "outputs": [
    {
     "data": {
      "text/html": [
       "<div>\n",
       "<style scoped>\n",
       "    .dataframe tbody tr th:only-of-type {\n",
       "        vertical-align: middle;\n",
       "    }\n",
       "\n",
       "    .dataframe tbody tr th {\n",
       "        vertical-align: top;\n",
       "    }\n",
       "\n",
       "    .dataframe thead th {\n",
       "        text-align: right;\n",
       "    }\n",
       "</style>\n",
       "<table border=\"1\" class=\"dataframe\">\n",
       "  <thead>\n",
       "    <tr style=\"text-align: right;\">\n",
       "      <th></th>\n",
       "      <th>Route_Name</th>\n",
       "      <th>Route_Link</th>\n",
       "      <th>Bus_Name</th>\n",
       "      <th>Bus_Type</th>\n",
       "      <th>Departing_Time</th>\n",
       "      <th>Duration</th>\n",
       "      <th>Reaching_Time</th>\n",
       "      <th>Star_Rating</th>\n",
       "      <th>Price</th>\n",
       "      <th>Seat_Availability</th>\n",
       "    </tr>\n",
       "  </thead>\n",
       "  <tbody>\n",
       "    <tr>\n",
       "      <th>0</th>\n",
       "      <td>Tezpur to Guwahati</td>\n",
       "      <td>https://www.redbus.in/bus-tickets/tezpur-to-gu...</td>\n",
       "      <td>BLUE HILL TRAVELS INDIA LIMITED</td>\n",
       "      <td>NON A/C Seater Semi Sleeper (2+1)</td>\n",
       "      <td>21:15</td>\n",
       "      <td>05h 45m</td>\n",
       "      <td>03:00</td>\n",
       "      <td>3.7</td>\n",
       "      <td>450</td>\n",
       "      <td>17</td>\n",
       "    </tr>\n",
       "    <tr>\n",
       "      <th>1</th>\n",
       "      <td>Tezpur to Guwahati</td>\n",
       "      <td>https://www.redbus.in/bus-tickets/tezpur-to-gu...</td>\n",
       "      <td>BLUE HILL TRAVELS INDIA LIMITED</td>\n",
       "      <td>NON A/C Seater Semi Sleeper (2+1)</td>\n",
       "      <td>21:45</td>\n",
       "      <td>05h 30m</td>\n",
       "      <td>03:15</td>\n",
       "      <td>3.5</td>\n",
       "      <td>450</td>\n",
       "      <td>13</td>\n",
       "    </tr>\n",
       "    <tr>\n",
       "      <th>2</th>\n",
       "      <td>Tezpur to Guwahati</td>\n",
       "      <td>https://www.redbus.in/bus-tickets/tezpur-to-gu...</td>\n",
       "      <td>DESTINY TRAVELS</td>\n",
       "      <td>NON A/C Seater (2+1)</td>\n",
       "      <td>23:00</td>\n",
       "      <td>05h 15m</td>\n",
       "      <td>04:15</td>\n",
       "      <td>1.3</td>\n",
       "      <td>488.78</td>\n",
       "      <td>22</td>\n",
       "    </tr>\n",
       "    <tr>\n",
       "      <th>3</th>\n",
       "      <td>Guwahati to Tezpur</td>\n",
       "      <td>https://www.redbus.in/bus-tickets/guwahati-to-...</td>\n",
       "      <td>WARISPIYA TRAVELS</td>\n",
       "      <td>Bharat Benz A/C Seater (2+2)</td>\n",
       "      <td>16:15</td>\n",
       "      <td>03h 25m</td>\n",
       "      <td>19:40</td>\n",
       "      <td>4.2</td>\n",
       "      <td>360</td>\n",
       "      <td>26</td>\n",
       "    </tr>\n",
       "    <tr>\n",
       "      <th>4</th>\n",
       "      <td>Guwahati to Tezpur</td>\n",
       "      <td>https://www.redbus.in/bus-tickets/guwahati-to-...</td>\n",
       "      <td>Kalpana Travels</td>\n",
       "      <td>AC Seater (2+2)</td>\n",
       "      <td>16:50</td>\n",
       "      <td>03h 25m</td>\n",
       "      <td>20:15</td>\n",
       "      <td>4.6</td>\n",
       "      <td>360</td>\n",
       "      <td>29</td>\n",
       "    </tr>\n",
       "    <tr>\n",
       "      <th>...</th>\n",
       "      <td>...</td>\n",
       "      <td>...</td>\n",
       "      <td>...</td>\n",
       "      <td>...</td>\n",
       "      <td>...</td>\n",
       "      <td>...</td>\n",
       "      <td>...</td>\n",
       "      <td>...</td>\n",
       "      <td>...</td>\n",
       "      <td>...</td>\n",
       "    </tr>\n",
       "    <tr>\n",
       "      <th>1624</th>\n",
       "      <td>Agra to Lucknow</td>\n",
       "      <td>https://www.redbus.in/bus-tickets/agra-to-lucknow</td>\n",
       "      <td>Anshi Raj Shree Travels</td>\n",
       "      <td>A/C Seater/Sleeper (2+1)</td>\n",
       "      <td>23:59</td>\n",
       "      <td>05h 16m</td>\n",
       "      <td>05:15</td>\n",
       "      <td>3.4</td>\n",
       "      <td>854</td>\n",
       "      <td>21</td>\n",
       "    </tr>\n",
       "    <tr>\n",
       "      <th>1625</th>\n",
       "      <td>Agra to Lucknow</td>\n",
       "      <td>https://www.redbus.in/bus-tickets/agra-to-lucknow</td>\n",
       "      <td>Bhagwati Travel Agency</td>\n",
       "      <td>AC Sleeper (2+1)</td>\n",
       "      <td>21:20</td>\n",
       "      <td>05h 00m</td>\n",
       "      <td>02:20</td>\n",
       "      <td>3.3</td>\n",
       "      <td>990</td>\n",
       "      <td>36</td>\n",
       "    </tr>\n",
       "    <tr>\n",
       "      <th>1626</th>\n",
       "      <td>Agra to Lucknow</td>\n",
       "      <td>https://www.redbus.in/bus-tickets/agra-to-lucknow</td>\n",
       "      <td>RS YADAV SMART BUS</td>\n",
       "      <td>VE A/C Seater / Sleeper (2+1)</td>\n",
       "      <td>23:55</td>\n",
       "      <td>05h 20m</td>\n",
       "      <td>05:15</td>\n",
       "      <td>3.9</td>\n",
       "      <td>599</td>\n",
       "      <td>24</td>\n",
       "    </tr>\n",
       "    <tr>\n",
       "      <th>1627</th>\n",
       "      <td>Agra to Lucknow</td>\n",
       "      <td>https://www.redbus.in/bus-tickets/agra-to-lucknow</td>\n",
       "      <td>Anshi Raj Shree Travels</td>\n",
       "      <td>Bharat Benz A/C Sleeper (2+1)</td>\n",
       "      <td>22:15</td>\n",
       "      <td>05h 15m</td>\n",
       "      <td>03:30</td>\n",
       "      <td>1.7</td>\n",
       "      <td>1139</td>\n",
       "      <td>12</td>\n",
       "    </tr>\n",
       "    <tr>\n",
       "      <th>1628</th>\n",
       "      <td>Agra to Lucknow</td>\n",
       "      <td>https://www.redbus.in/bus-tickets/agra-to-lucknow</td>\n",
       "      <td>Sethi Yatra Company</td>\n",
       "      <td>Bharat Benz A/C Seater /Sleeper (2+1)</td>\n",
       "      <td>21:05</td>\n",
       "      <td>05h 50m</td>\n",
       "      <td>02:55</td>\n",
       "      <td>1.4</td>\n",
       "      <td>570</td>\n",
       "      <td>23</td>\n",
       "    </tr>\n",
       "  </tbody>\n",
       "</table>\n",
       "<p>1452 rows × 10 columns</p>\n",
       "</div>"
      ],
      "text/plain": [
       "              Route_Name                                         Route_Link  \\\n",
       "0     Tezpur to Guwahati  https://www.redbus.in/bus-tickets/tezpur-to-gu...   \n",
       "1     Tezpur to Guwahati  https://www.redbus.in/bus-tickets/tezpur-to-gu...   \n",
       "2     Tezpur to Guwahati  https://www.redbus.in/bus-tickets/tezpur-to-gu...   \n",
       "3     Guwahati to Tezpur  https://www.redbus.in/bus-tickets/guwahati-to-...   \n",
       "4     Guwahati to Tezpur  https://www.redbus.in/bus-tickets/guwahati-to-...   \n",
       "...                  ...                                                ...   \n",
       "1624     Agra to Lucknow  https://www.redbus.in/bus-tickets/agra-to-lucknow   \n",
       "1625     Agra to Lucknow  https://www.redbus.in/bus-tickets/agra-to-lucknow   \n",
       "1626     Agra to Lucknow  https://www.redbus.in/bus-tickets/agra-to-lucknow   \n",
       "1627     Agra to Lucknow  https://www.redbus.in/bus-tickets/agra-to-lucknow   \n",
       "1628     Agra to Lucknow  https://www.redbus.in/bus-tickets/agra-to-lucknow   \n",
       "\n",
       "                             Bus_Name                               Bus_Type  \\\n",
       "0     BLUE HILL TRAVELS INDIA LIMITED      NON A/C Seater Semi Sleeper (2+1)   \n",
       "1     BLUE HILL TRAVELS INDIA LIMITED      NON A/C Seater Semi Sleeper (2+1)   \n",
       "2                     DESTINY TRAVELS                   NON A/C Seater (2+1)   \n",
       "3                   WARISPIYA TRAVELS           Bharat Benz A/C Seater (2+2)   \n",
       "4                     Kalpana Travels                        AC Seater (2+2)   \n",
       "...                               ...                                    ...   \n",
       "1624          Anshi Raj Shree Travels               A/C Seater/Sleeper (2+1)   \n",
       "1625           Bhagwati Travel Agency                       AC Sleeper (2+1)   \n",
       "1626               RS YADAV SMART BUS          VE A/C Seater / Sleeper (2+1)   \n",
       "1627          Anshi Raj Shree Travels          Bharat Benz A/C Sleeper (2+1)   \n",
       "1628              Sethi Yatra Company  Bharat Benz A/C Seater /Sleeper (2+1)   \n",
       "\n",
       "     Departing_Time Duration Reaching_Time  Star_Rating   Price  \\\n",
       "0             21:15  05h 45m         03:00          3.7     450   \n",
       "1             21:45  05h 30m         03:15          3.5     450   \n",
       "2             23:00  05h 15m         04:15          1.3  488.78   \n",
       "3             16:15  03h 25m         19:40          4.2     360   \n",
       "4             16:50  03h 25m         20:15          4.6     360   \n",
       "...             ...      ...           ...          ...     ...   \n",
       "1624          23:59  05h 16m         05:15          3.4     854   \n",
       "1625          21:20  05h 00m         02:20          3.3     990   \n",
       "1626          23:55  05h 20m         05:15          3.9     599   \n",
       "1627          22:15  05h 15m         03:30          1.7    1139   \n",
       "1628          21:05  05h 50m         02:55          1.4     570   \n",
       "\n",
       "     Seat_Availability  \n",
       "0                   17  \n",
       "1                   13  \n",
       "2                   22  \n",
       "3                   26  \n",
       "4                   29  \n",
       "...                ...  \n",
       "1624                21  \n",
       "1625                36  \n",
       "1626                24  \n",
       "1627                12  \n",
       "1628                23  \n",
       "\n",
       "[1452 rows x 10 columns]"
      ]
     },
     "execution_count": 12,
     "metadata": {},
     "output_type": "execute_result"
    }
   ],
   "source": [
    "combined_df"
   ]
  },
  {
   "cell_type": "code",
   "execution_count": 13,
   "id": "1e3a7832-75c0-4331-8ef0-89f4879025f3",
   "metadata": {},
   "outputs": [],
   "source": [
    "# Create table\n",
    "# Assuming 'a' contains the column definitions for the table excluding 'id'\n",
    "table_name = \"bus_routes\"\n",
    "myconnection.cursor().execute(f\"CREATE TABLE IF NOT EXISTS {table_name} (id INT AUTO_INCREMENT PRIMARY KEY, {a})\")\n",
    "\n",
    "# Get the column names (excluding 'id') from 'a'\n",
    "column_names = [col.split()[0] for col in a.split(',')] \n",
    "\n",
    "# Prepare the query string for insertion\n",
    "columns_string = \", \".join(column_names)\n",
    "placeholders = \", \".join([\"%s\"] * len(column_names))  # Placeholder for parameterized query\n",
    "\n",
    "# Insert data into MySQL\n",
    "query = f\"INSERT INTO {table_name} ({columns_string}) VALUES ({placeholders})\"\n",
    "cursor = myconnection.cursor()\n",
    "\n",
    "for _, row in combined_df.iterrows():\n",
    "    cursor.execute(query, tuple(row))  # Using a parameterized query for safety\n",
    "\n",
    "myconnection.commit()\n",
    "\n",
    "# Close the MySQL connection\n",
    "myconnection.close()"
   ]
  },
  {
   "cell_type": "code",
   "execution_count": 14,
   "id": "5eb7b476-27d0-429c-a5db-0ba667eb0f97",
   "metadata": {},
   "outputs": [
    {
     "data": {
      "text/plain": [
       "'Route_Name, Route_Link, Bus_Name, Bus_Type, Departing_Time, Duration, Reaching_Time, Star_Rating, Price, Seat_Availability'"
      ]
     },
     "execution_count": 14,
     "metadata": {},
     "output_type": "execute_result"
    }
   ],
   "source": [
    "columns_string"
   ]
  },
  {
   "cell_type": "code",
   "execution_count": 15,
   "id": "a627ad42-48cf-4666-8d10-9fb755f709b1",
   "metadata": {},
   "outputs": [
    {
     "data": {
      "text/plain": [
       "'%s, %s, %s, %s, %s, %s, %s, %s, %s, %s'"
      ]
     },
     "execution_count": 15,
     "metadata": {},
     "output_type": "execute_result"
    }
   ],
   "source": [
    "placeholders"
   ]
  },
  {
   "cell_type": "code",
   "execution_count": null,
   "id": "f78ed4bd-f74e-4f61-8d22-09ff31e59659",
   "metadata": {},
   "outputs": [],
   "source": []
  }
 ],
 "metadata": {
  "kernelspec": {
   "display_name": "Python 3 (ipykernel)",
   "language": "python",
   "name": "python3"
  },
  "language_info": {
   "codemirror_mode": {
    "name": "ipython",
    "version": 3
   },
   "file_extension": ".py",
   "mimetype": "text/x-python",
   "name": "python",
   "nbconvert_exporter": "python",
   "pygments_lexer": "ipython3",
   "version": "3.12.1"
  }
 },
 "nbformat": 4,
 "nbformat_minor": 5
}
