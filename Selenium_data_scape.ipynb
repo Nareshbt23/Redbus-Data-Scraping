{
 "cells": [
  {
   "cell_type": "code",
   "execution_count": 64,
   "id": "2765de34-995a-4063-93c4-bb4c175610c1",
   "metadata": {},
   "outputs": [],
   "source": [
    "import time\n",
    "import pandas as pd\n",
    "from selenium import webdriver\n",
    "from selenium.webdriver.common.by import By\n",
    "from selenium.webdriver.support.ui import WebDriverWait\n",
    "from selenium.webdriver.support import expected_conditions as EC\n",
    "\n",
    "# Step 1: Initialize the WebDriver\n",
    "def initialize_driver():\n",
    "    driver = webdriver.Chrome()\n",
    "    driver.maximize_window()\n",
    "    return driver\n",
    "\n",
    "# Step 2: Load the webpage\n",
    "def load_page(driver, url):\n",
    "    driver.get(url)\n",
    "    time.sleep(2)\n",
    "\n",
    "# Step 3: Extract bus route links and names\n",
    "def get_routes(driver):\n",
    "    routes = driver.find_elements(By.CLASS_NAME, \"route\")\n",
    "    links = [route.get_attribute('href') for route in routes]\n",
    "    names = [route.text.strip() for route in routes]\n",
    "    return list(zip(links, names))\n",
    "\n",
    "# Step 4: Scrape bus details for a single route\n",
    "def scrape_bus_details(driver, url, route_name):\n",
    "    try:\n",
    "        driver.get(url)\n",
    "        time.sleep(2)\n",
    "\n",
    "        # Click \"View Buses\" button\n",
    "        click_view_buses_button(driver)\n",
    "\n",
    "        # Scroll to load all bus details\n",
    "        driver.execute_script(\"window.scrollTo(0, document.body.scrollHeight);\")\n",
    "        time.sleep(2)\n",
    "\n",
    "        # Extract bus details\n",
    "        return extract_bus_details(driver, url, route_name)\n",
    "    except Exception as e:\n",
    "        print(f\"Error scraping details for {route_name} ({url}): {e}\")\n",
    "        return []\n",
    "\n",
    "# Helper: Click the \"View Buses\" button\n",
    "def click_view_buses_button(driver):\n",
    "    WebDriverWait(driver, 10).until(\n",
    "        EC.element_to_be_clickable((By.CLASS_NAME, \"button\"))\n",
    "    ).click()\n",
    "    time.sleep(2)\n",
    "\n",
    "# Helper: Extract bus details from the current page\n",
    "def extract_bus_details(driver, url, route_name):\n",
    "    buses = driver.find_elements(By.CLASS_NAME, \"travels.lh-24.f-bold.d-color\")\n",
    "    types = driver.find_elements(By.CLASS_NAME, \"bus-type.f-12.m-top-16.l-color.evBus\")\n",
    "    departures = driver.find_elements(By.CLASS_NAME, \"dp-time.f-19.d-color.f-bold\")\n",
    "    durations = driver.find_elements(By.CLASS_NAME, \"dur.l-color.lh-24\")\n",
    "    arrivals = driver.find_elements(By.CLASS_NAME, \"bp-time.f-19.d-color.disp-Inline\")\n",
    "    ratings = driver.find_elements(By.XPATH, \"//div[@class='rating-sec lh-24']\")\n",
    "    prices = driver.find_elements(By.CLASS_NAME, \"fare.d-block\")\n",
    "    seats = driver.find_elements(By.XPATH, \"//div[contains(@class, 'seat-left')]\")\n",
    "\n",
    "    details = []\n",
    "    for i in range(len(buses)):\n",
    "        details.append({\n",
    "            \"Route_Name\": route_name,\n",
    "            \"Route_Link\": url,\n",
    "            \"Bus_Name\": buses[i].text,\n",
    "            \"Bus_Type\": types[i].text,\n",
    "            \"Departing_Time\": departures[i].text,\n",
    "            \"Duration\": durations[i].text,\n",
    "            \"Reaching_Time\": arrivals[i].text,\n",
    "            \"Star_Rating\": ratings[i].text if i < len(ratings) else \"N/A\",\n",
    "            \"Price\": prices[i].text,\n",
    "            \"Seat_Availability\": seats[i].text if i < len(seats) else \"N/A\"\n",
    "        })\n",
    "    return details\n",
    "\n",
    "# Step 5: Save collected data to a CSV file\n",
    "def save_to_csv(data, filename):\n",
    "    df = pd.DataFrame(data)\n",
    "    df.to_csv(filename, index=False)\n",
    "\n",
    "# Main function to execute the scraping process\n",
    "def scrape_bus_details_main(url, output_file):\n",
    "    driver = initialize_driver()\n",
    "    try:\n",
    "        # Step 1: Load the webpage\n",
    "        load_page(driver, url)\n",
    "\n",
    "        # Step 2: Get all bus routes\n",
    "        routes = get_routes(driver)\n",
    "\n",
    "        # Step 3: Collect all bus details\n",
    "        all_bus_data = []\n",
    "        for link, name in routes:\n",
    "            route_data = scrape_bus_details(driver, link, name)\n",
    "            all_bus_data.extend(route_data)\n",
    "\n",
    "        # Step 4: Save data to CSV\n",
    "        save_to_csv(all_bus_data, output_file)\n",
    "        print(f\"Data successfully saved to '{output_file}'\")\n",
    "    finally:\n",
    "        driver.quit()\n"
   ]
  },
  {
   "cell_type": "code",
   "execution_count": 65,
   "id": "077755a7-eea1-44de-8741-29caab19e521",
   "metadata": {},
   "outputs": [
    {
     "name": "stdout",
     "output_type": "stream",
     "text": [
      "Data successfully saved to 'TSRTC.csv'\n"
     ]
    }
   ],
   "source": [
    "# Modify these variables for different URLs and output file names\n",
    "\n",
    "# 1. Telangana state road transport corporation\n",
    "TARGET_URL = \"https://www.redbus.in/online-booking/tsrtc/?utm_source=rtchometile\"\n",
    "OUTPUT_FILENAME = \"TSRTC.csv\"\n",
    "\n",
    "scrape_bus_details_main(TARGET_URL, OUTPUT_FILENAME)"
   ]
  },
  {
   "cell_type": "code",
   "execution_count": 66,
   "id": "47a817e4-9e40-458d-92d2-a426aeaa2a4f",
   "metadata": {},
   "outputs": [
    {
     "name": "stdout",
     "output_type": "stream",
     "text": [
      "Error scraping details for Mysore to Kozhikode (https://www.redbus.in/bus-tickets/mysore-to-kozhikode): Message: \n",
      "Stacktrace:\n",
      "\tGetHandleVerifier [0x00007FF7B2FA6CF5+28821]\n",
      "\t(No symbol) [0x00007FF7B2F13880]\n",
      "\t(No symbol) [0x00007FF7B2DB578A]\n",
      "\t(No symbol) [0x00007FF7B2E091BE]\n",
      "\t(No symbol) [0x00007FF7B2E094AC]\n",
      "\t(No symbol) [0x00007FF7B2E52647]\n",
      "\t(No symbol) [0x00007FF7B2E2F33F]\n",
      "\t(No symbol) [0x00007FF7B2E4F412]\n",
      "\t(No symbol) [0x00007FF7B2E2F0A3]\n",
      "\t(No symbol) [0x00007FF7B2DFA778]\n",
      "\t(No symbol) [0x00007FF7B2DFB8E1]\n",
      "\tGetHandleVerifier [0x00007FF7B32DFCED+3408013]\n",
      "\tGetHandleVerifier [0x00007FF7B32F745F+3504127]\n",
      "\tGetHandleVerifier [0x00007FF7B32EB63D+3455453]\n",
      "\tGetHandleVerifier [0x00007FF7B306BDFB+835995]\n",
      "\t(No symbol) [0x00007FF7B2F1EB9F]\n",
      "\t(No symbol) [0x00007FF7B2F1A854]\n",
      "\t(No symbol) [0x00007FF7B2F1A9ED]\n",
      "\t(No symbol) [0x00007FF7B2F0A1D9]\n",
      "\tBaseThreadInitThunk [0x00007FFECDEBE8D7+23]\n",
      "\tRtlUserThreadStart [0x00007FFECE95FBCC+44]\n",
      "\n",
      "Data successfully saved to 'KSRTC.csv'\n"
     ]
    }
   ],
   "source": [
    "# 2. Kerala state road transport corporation\n",
    "\n",
    "TARGET_URL = \"https://www.redbus.in/online-booking/ksrtc-kerala/?utm_source=rtchometile\"\n",
    "OUTPUT_FILENAME = \"KSRTC.csv\"\n",
    "\n",
    "scrape_bus_details_main(TARGET_URL, OUTPUT_FILENAME)"
   ]
  },
  {
   "cell_type": "code",
   "execution_count": 67,
   "id": "7381f82d-22f9-42d7-9d9b-99ef6b83e058",
   "metadata": {},
   "outputs": [
    {
     "name": "stdout",
     "output_type": "stream",
     "text": [
      "Data successfully saved to 'UPSRTC.csv'\n"
     ]
    }
   ],
   "source": [
    "# 3. Uttar pradesh state road transport corporation\n",
    "\n",
    "TARGET_URL = \"https://www.redbus.in/online-booking/uttar-pradesh-state-road-transport-corporation-upsrtc/?utm_source=rtchometile\"\n",
    "OUTPUT_FILENAME = \"UPSRTC.csv\"\n",
    "\n",
    "scrape_bus_details_main(TARGET_URL, OUTPUT_FILENAME)"
   ]
  },
  {
   "cell_type": "code",
   "execution_count": 68,
   "id": "4fd9ea25-9ed3-40f7-b4d3-83c1fa9af9bc",
   "metadata": {},
   "outputs": [
    {
     "name": "stdout",
     "output_type": "stream",
     "text": [
      "Data successfully saved to 'JKSRTC.csv'\n"
     ]
    }
   ],
   "source": [
    "# 4. Jammu kashmri state road transport corporation\n",
    "\n",
    "TARGET_URL = \"https://www.redbus.in/online-booking/jksrtc\"\n",
    "OUTPUT_FILENAME = \"JKSRTC.csv\"\n",
    "\n",
    "scrape_bus_details_main(TARGET_URL, OUTPUT_FILENAME)"
   ]
  },
  {
   "cell_type": "code",
   "execution_count": 69,
   "id": "ad038ece-f0f4-4021-9cce-6bb56702d599",
   "metadata": {},
   "outputs": [
    {
     "name": "stdout",
     "output_type": "stream",
     "text": [
      "Data successfully saved to 'KTCL.csv'\n"
     ]
    }
   ],
   "source": [
    "# 5. Kadamba state road transport corporation\n",
    "\n",
    "TARGET_URL = \"https://www.redbus.in/online-booking/ktcl/?utm_source=rtchometile\"\n",
    "OUTPUT_FILENAME = \"KTCL.csv\"\n",
    "\n",
    "scrape_bus_details_main(TARGET_URL, OUTPUT_FILENAME)"
   ]
  },
  {
   "cell_type": "code",
   "execution_count": 70,
   "id": "1c477bc4-7470-4a54-ade4-ff800b41ca47",
   "metadata": {},
   "outputs": [
    {
     "name": "stdout",
     "output_type": "stream",
     "text": [
      "Data successfully saved to 'SBSTC.csv'\n"
     ]
    }
   ],
   "source": [
    "# 6. South Bengal state road transport corporation\n",
    "\n",
    "TARGET_URL = \"https://www.redbus.in/online-booking/south-bengal-state-transport-corporation-sbstc/?utm_source=rtchometilee\"\n",
    "OUTPUT_FILENAME = \"SBSTC.csv\"\n",
    "\n",
    "scrape_bus_details_main(TARGET_URL, OUTPUT_FILENAME)"
   ]
  },
  {
   "cell_type": "code",
   "execution_count": 71,
   "id": "a6383f9e-670c-4ca3-8699-b42f80d409a4",
   "metadata": {},
   "outputs": [
    {
     "name": "stdout",
     "output_type": "stream",
     "text": [
      "Data successfully saved to 'HRTC.csv'\n"
     ]
    }
   ],
   "source": [
    "# 7. Himachal road transport corporation\n",
    "\n",
    "TARGET_URL = \"https://www.redbus.in/online-booking/hrtc/?utm_source=rtchometile\"\n",
    "OUTPUT_FILENAME = \"HRTC.csv\"\n",
    "\n",
    "scrape_bus_details_main(TARGET_URL, OUTPUT_FILENAME)"
   ]
  },
  {
   "cell_type": "code",
   "execution_count": 72,
   "id": "17182066-07fb-4356-8795-012282961e3a",
   "metadata": {},
   "outputs": [
    {
     "name": "stdout",
     "output_type": "stream",
     "text": [
      "Error scraping details for Goalpara to Guwahati (https://www.redbus.in/bus-tickets/goalpara-to-guwahati): Message: \n",
      "Stacktrace:\n",
      "\tGetHandleVerifier [0x00007FF7B2FA6CF5+28821]\n",
      "\t(No symbol) [0x00007FF7B2F13880]\n",
      "\t(No symbol) [0x00007FF7B2DB578A]\n",
      "\t(No symbol) [0x00007FF7B2E091BE]\n",
      "\t(No symbol) [0x00007FF7B2E094AC]\n",
      "\t(No symbol) [0x00007FF7B2E52647]\n",
      "\t(No symbol) [0x00007FF7B2E2F33F]\n",
      "\t(No symbol) [0x00007FF7B2E4F412]\n",
      "\t(No symbol) [0x00007FF7B2E2F0A3]\n",
      "\t(No symbol) [0x00007FF7B2DFA778]\n",
      "\t(No symbol) [0x00007FF7B2DFB8E1]\n",
      "\tGetHandleVerifier [0x00007FF7B32DFCED+3408013]\n",
      "\tGetHandleVerifier [0x00007FF7B32F745F+3504127]\n",
      "\tGetHandleVerifier [0x00007FF7B32EB63D+3455453]\n",
      "\tGetHandleVerifier [0x00007FF7B306BDFB+835995]\n",
      "\t(No symbol) [0x00007FF7B2F1EB9F]\n",
      "\t(No symbol) [0x00007FF7B2F1A854]\n",
      "\t(No symbol) [0x00007FF7B2F1A9ED]\n",
      "\t(No symbol) [0x00007FF7B2F0A1D9]\n",
      "\tBaseThreadInitThunk [0x00007FFECDEBE8D7+23]\n",
      "\tRtlUserThreadStart [0x00007FFECE95FBCC+44]\n",
      "\n",
      "Error scraping details for Jorhat to North Lakhimpur (https://www.redbus.in/bus-tickets/jorhat-to-north-lakhimpur): Message: \n",
      "Stacktrace:\n",
      "\tGetHandleVerifier [0x00007FF7B2FA6CF5+28821]\n",
      "\t(No symbol) [0x00007FF7B2F13880]\n",
      "\t(No symbol) [0x00007FF7B2DB578A]\n",
      "\t(No symbol) [0x00007FF7B2E091BE]\n",
      "\t(No symbol) [0x00007FF7B2E094AC]\n",
      "\t(No symbol) [0x00007FF7B2E52647]\n",
      "\t(No symbol) [0x00007FF7B2E2F33F]\n",
      "\t(No symbol) [0x00007FF7B2E4F412]\n",
      "\t(No symbol) [0x00007FF7B2E2F0A3]\n",
      "\t(No symbol) [0x00007FF7B2DFA778]\n",
      "\t(No symbol) [0x00007FF7B2DFB8E1]\n",
      "\tGetHandleVerifier [0x00007FF7B32DFCED+3408013]\n",
      "\tGetHandleVerifier [0x00007FF7B32F745F+3504127]\n",
      "\tGetHandleVerifier [0x00007FF7B32EB63D+3455453]\n",
      "\tGetHandleVerifier [0x00007FF7B306BDFB+835995]\n",
      "\t(No symbol) [0x00007FF7B2F1EB9F]\n",
      "\t(No symbol) [0x00007FF7B2F1A854]\n",
      "\t(No symbol) [0x00007FF7B2F1A9ED]\n",
      "\t(No symbol) [0x00007FF7B2F0A1D9]\n",
      "\tBaseThreadInitThunk [0x00007FFECDEBE8D7+23]\n",
      "\tRtlUserThreadStart [0x00007FFECE95FBCC+44]\n",
      "\n",
      "Error scraping details for North Lakhimpur to Sibsagar (Assam) (https://www.redbus.in/bus-tickets/north-lakhimpur-to-sibsagar): Message: \n",
      "Stacktrace:\n",
      "\tGetHandleVerifier [0x00007FF7B2FA6CF5+28821]\n",
      "\t(No symbol) [0x00007FF7B2F13880]\n",
      "\t(No symbol) [0x00007FF7B2DB578A]\n",
      "\t(No symbol) [0x00007FF7B2E091BE]\n",
      "\t(No symbol) [0x00007FF7B2E094AC]\n",
      "\t(No symbol) [0x00007FF7B2E52647]\n",
      "\t(No symbol) [0x00007FF7B2E2F33F]\n",
      "\t(No symbol) [0x00007FF7B2E4F412]\n",
      "\t(No symbol) [0x00007FF7B2E2F0A3]\n",
      "\t(No symbol) [0x00007FF7B2DFA778]\n",
      "\t(No symbol) [0x00007FF7B2DFB8E1]\n",
      "\tGetHandleVerifier [0x00007FF7B32DFCED+3408013]\n",
      "\tGetHandleVerifier [0x00007FF7B32F745F+3504127]\n",
      "\tGetHandleVerifier [0x00007FF7B32EB63D+3455453]\n",
      "\tGetHandleVerifier [0x00007FF7B306BDFB+835995]\n",
      "\t(No symbol) [0x00007FF7B2F1EB9F]\n",
      "\t(No symbol) [0x00007FF7B2F1A854]\n",
      "\t(No symbol) [0x00007FF7B2F1A9ED]\n",
      "\t(No symbol) [0x00007FF7B2F0A1D9]\n",
      "\tBaseThreadInitThunk [0x00007FFECDEBE8D7+23]\n",
      "\tRtlUserThreadStart [0x00007FFECE95FBCC+44]\n",
      "\n",
      "Error scraping details for Dhekiajuli to Guwahati (https://www.redbus.in/bus-tickets/dhekiajuli-to-guwahati): Message: \n",
      "Stacktrace:\n",
      "\tGetHandleVerifier [0x00007FF7B2FA6CF5+28821]\n",
      "\t(No symbol) [0x00007FF7B2F13880]\n",
      "\t(No symbol) [0x00007FF7B2DB578A]\n",
      "\t(No symbol) [0x00007FF7B2E091BE]\n",
      "\t(No symbol) [0x00007FF7B2E094AC]\n",
      "\t(No symbol) [0x00007FF7B2E52647]\n",
      "\t(No symbol) [0x00007FF7B2E2F33F]\n",
      "\t(No symbol) [0x00007FF7B2E4F412]\n",
      "\t(No symbol) [0x00007FF7B2E2F0A3]\n",
      "\t(No symbol) [0x00007FF7B2DFA778]\n",
      "\t(No symbol) [0x00007FF7B2DFB8E1]\n",
      "\tGetHandleVerifier [0x00007FF7B32DFCED+3408013]\n",
      "\tGetHandleVerifier [0x00007FF7B32F745F+3504127]\n",
      "\tGetHandleVerifier [0x00007FF7B32EB63D+3455453]\n",
      "\tGetHandleVerifier [0x00007FF7B306BDFB+835995]\n",
      "\t(No symbol) [0x00007FF7B2F1EB9F]\n",
      "\t(No symbol) [0x00007FF7B2F1A854]\n",
      "\t(No symbol) [0x00007FF7B2F1A9ED]\n",
      "\t(No symbol) [0x00007FF7B2F0A1D9]\n",
      "\tBaseThreadInitThunk [0x00007FFECDEBE8D7+23]\n",
      "\tRtlUserThreadStart [0x00007FFECE95FBCC+44]\n",
      "\n",
      "Data successfully saved to 'ASTC.csv'\n"
     ]
    }
   ],
   "source": [
    "# 8. Assam state road transport corporation\n",
    "\n",
    "TARGET_URL = \"https://www.redbus.in/online-booking/astc/?utm_source=rtchometile\"\n",
    "OUTPUT_FILENAME = \"ASTC.csv\"\n",
    "\n",
    "scrape_bus_details_main(TARGET_URL, OUTPUT_FILENAME)"
   ]
  },
  {
   "cell_type": "code",
   "execution_count": 73,
   "id": "158e8e84-8616-4de7-b14b-b32847e5e007",
   "metadata": {},
   "outputs": [
    {
     "name": "stdout",
     "output_type": "stream",
     "text": [
      "Error scraping details for Siliguri to Darjeeling (https://www.redbus.in/bus-tickets/siliguri-to-darjeeling): Message: \n",
      "Stacktrace:\n",
      "\tGetHandleVerifier [0x00007FF7B2FA6CF5+28821]\n",
      "\t(No symbol) [0x00007FF7B2F13880]\n",
      "\t(No symbol) [0x00007FF7B2DB578A]\n",
      "\t(No symbol) [0x00007FF7B2E091BE]\n",
      "\t(No symbol) [0x00007FF7B2E094AC]\n",
      "\t(No symbol) [0x00007FF7B2E52647]\n",
      "\t(No symbol) [0x00007FF7B2E2F33F]\n",
      "\t(No symbol) [0x00007FF7B2E4F412]\n",
      "\t(No symbol) [0x00007FF7B2E2F0A3]\n",
      "\t(No symbol) [0x00007FF7B2DFA778]\n",
      "\t(No symbol) [0x00007FF7B2DFB8E1]\n",
      "\tGetHandleVerifier [0x00007FF7B32DFCED+3408013]\n",
      "\tGetHandleVerifier [0x00007FF7B32F745F+3504127]\n",
      "\tGetHandleVerifier [0x00007FF7B32EB63D+3455453]\n",
      "\tGetHandleVerifier [0x00007FF7B306BDFB+835995]\n",
      "\t(No symbol) [0x00007FF7B2F1EB9F]\n",
      "\t(No symbol) [0x00007FF7B2F1A854]\n",
      "\t(No symbol) [0x00007FF7B2F1A9ED]\n",
      "\t(No symbol) [0x00007FF7B2F0A1D9]\n",
      "\tBaseThreadInitThunk [0x00007FFECDEBE8D7+23]\n",
      "\tRtlUserThreadStart [0x00007FFECE95FBCC+44]\n",
      "\n",
      "Error scraping details for Kolkata to Cooch Behar (West Bengal) (https://www.redbus.in/bus-tickets/kolkata-to-cooch-behar-west-bengal): Message: \n",
      "Stacktrace:\n",
      "\tGetHandleVerifier [0x00007FF7B2FA6CF5+28821]\n",
      "\t(No symbol) [0x00007FF7B2F13880]\n",
      "\t(No symbol) [0x00007FF7B2DB578A]\n",
      "\t(No symbol) [0x00007FF7B2E091BE]\n",
      "\t(No symbol) [0x00007FF7B2E094AC]\n",
      "\t(No symbol) [0x00007FF7B2E52647]\n",
      "\t(No symbol) [0x00007FF7B2E2F33F]\n",
      "\t(No symbol) [0x00007FF7B2E4F412]\n",
      "\t(No symbol) [0x00007FF7B2E2F0A3]\n",
      "\t(No symbol) [0x00007FF7B2DFA778]\n",
      "\t(No symbol) [0x00007FF7B2DFB8E1]\n",
      "\tGetHandleVerifier [0x00007FF7B32DFCED+3408013]\n",
      "\tGetHandleVerifier [0x00007FF7B32F745F+3504127]\n",
      "\tGetHandleVerifier [0x00007FF7B32EB63D+3455453]\n",
      "\tGetHandleVerifier [0x00007FF7B306BDFB+835995]\n",
      "\t(No symbol) [0x00007FF7B2F1EB9F]\n",
      "\t(No symbol) [0x00007FF7B2F1A854]\n",
      "\t(No symbol) [0x00007FF7B2F1A9ED]\n",
      "\t(No symbol) [0x00007FF7B2F0A1D9]\n",
      "\tBaseThreadInitThunk [0x00007FFECDEBE8D7+23]\n",
      "\tRtlUserThreadStart [0x00007FFECE95FBCC+44]\n",
      "\n",
      "Error scraping details for Cooch Behar (West Bengal) to Kolkata (https://www.redbus.in/bus-tickets/cooch-behar-west-bengal-to-kolkata): Message: \n",
      "Stacktrace:\n",
      "\tGetHandleVerifier [0x00007FF7B2FA6CF5+28821]\n",
      "\t(No symbol) [0x00007FF7B2F13880]\n",
      "\t(No symbol) [0x00007FF7B2DB578A]\n",
      "\t(No symbol) [0x00007FF7B2E091BE]\n",
      "\t(No symbol) [0x00007FF7B2E094AC]\n",
      "\t(No symbol) [0x00007FF7B2E52647]\n",
      "\t(No symbol) [0x00007FF7B2E2F33F]\n",
      "\t(No symbol) [0x00007FF7B2E4F412]\n",
      "\t(No symbol) [0x00007FF7B2E2F0A3]\n",
      "\t(No symbol) [0x00007FF7B2DFA778]\n",
      "\t(No symbol) [0x00007FF7B2DFB8E1]\n",
      "\tGetHandleVerifier [0x00007FF7B32DFCED+3408013]\n",
      "\tGetHandleVerifier [0x00007FF7B32F745F+3504127]\n",
      "\tGetHandleVerifier [0x00007FF7B32EB63D+3455453]\n",
      "\tGetHandleVerifier [0x00007FF7B306BDFB+835995]\n",
      "\t(No symbol) [0x00007FF7B2F1EB9F]\n",
      "\t(No symbol) [0x00007FF7B2F1A854]\n",
      "\t(No symbol) [0x00007FF7B2F1A9ED]\n",
      "\t(No symbol) [0x00007FF7B2F0A1D9]\n",
      "\tBaseThreadInitThunk [0x00007FFECDEBE8D7+23]\n",
      "\tRtlUserThreadStart [0x00007FFECE95FBCC+44]\n",
      "\n",
      "Data successfully saved to 'NBSTC.csv'\n"
     ]
    }
   ],
   "source": [
    "# 9. North Bengal state road transport corporation\n",
    "\n",
    "TARGET_URL = \"https://www.redbus.in/travels/nbstc\"\n",
    "OUTPUT_FILENAME = \"NBSTC.csv\"\n",
    "\n",
    "scrape_bus_details_main(TARGET_URL, OUTPUT_FILENAME)"
   ]
  },
  {
   "cell_type": "code",
   "execution_count": 74,
   "id": "60933de0-41cc-48a0-ab1a-ca3ce348f4e6",
   "metadata": {},
   "outputs": [
    {
     "name": "stdout",
     "output_type": "stream",
     "text": [
      "Data successfully saved to 'PEPSU.csv'\n"
     ]
    }
   ],
   "source": [
    "# 10. PEPSU(Punjab) state road transport corporation\n",
    "\n",
    "TARGET_URL = \"https://www.redbus.in/online-booking/pepsu/?utm_source=rtchometile\"\n",
    "OUTPUT_FILENAME = \"PEPSU.csv\"\n",
    "\n",
    "scrape_bus_details_main(TARGET_URL, OUTPUT_FILENAME)"
   ]
  }
 ],
 "metadata": {
  "kernelspec": {
   "display_name": "Python 3 (ipykernel)",
   "language": "python",
   "name": "python3"
  },
  "language_info": {
   "codemirror_mode": {
    "name": "ipython",
    "version": 3
   },
   "file_extension": ".py",
   "mimetype": "text/x-python",
   "name": "python",
   "nbconvert_exporter": "python",
   "pygments_lexer": "ipython3",
   "version": "3.12.1"
  }
 },
 "nbformat": 4,
 "nbformat_minor": 5
}
